{
 "cells": [
  {
   "cell_type": "code",
   "execution_count": 1,
   "metadata": {},
   "outputs": [],
   "source": [
    "import numpy as np\n",
    "import pandas as pd\n",
    "import os\n",
    "\n",
    "%matplotlib inline\n",
    "import matplotlib\n",
    "import matplotlib.pyplot as plt"
   ]
  },
  {
   "cell_type": "code",
   "execution_count": 2,
   "metadata": {},
   "outputs": [
    {
     "data": {
      "text/plain": [
       "'/Users/wataru/Google_R'"
      ]
     },
     "execution_count": 2,
     "metadata": {},
     "output_type": "execute_result"
    }
   ],
   "source": [
    "os.getcwd()"
   ]
  },
  {
   "cell_type": "code",
   "execution_count": 3,
   "metadata": {},
   "outputs": [
    {
     "name": "stderr",
     "output_type": "stream",
     "text": [
      "/anaconda3/lib/python3.6/site-packages/IPython/core/interactiveshell.py:2785: DtypeWarning: Columns (2,49) have mixed types. Specify dtype option on import or set low_memory=False.\n",
      "  interactivity=interactivity, compiler=compiler, result=result)\n",
      "/anaconda3/lib/python3.6/site-packages/IPython/core/interactiveshell.py:2785: DtypeWarning: Columns (2) have mixed types. Specify dtype option on import or set low_memory=False.\n",
      "  interactivity=interactivity, compiler=compiler, result=result)\n"
     ]
    }
   ],
   "source": [
    "train = pd.read_csv(\"/Users/wataru/Google_R/train-flattened.csv\")\n",
    "test =  pd.read_csv(\"/Users/wataru/Google_R/test-flattened.csv\")\n",
    "sample_submission =  pd.read_csv(\"/Users/wataru/Google_R/sample_submission.csv\")"
   ]
  },
  {
   "cell_type": "code",
   "execution_count": 4,
   "metadata": {},
   "outputs": [
    {
     "data": {
      "text/html": [
       "<div>\n",
       "<style scoped>\n",
       "    .dataframe tbody tr th:only-of-type {\n",
       "        vertical-align: middle;\n",
       "    }\n",
       "\n",
       "    .dataframe tbody tr th {\n",
       "        vertical-align: top;\n",
       "    }\n",
       "\n",
       "    .dataframe thead th {\n",
       "        text-align: right;\n",
       "    }\n",
       "</style>\n",
       "<table border=\"1\" class=\"dataframe\">\n",
       "  <thead>\n",
       "    <tr style=\"text-align: right;\">\n",
       "      <th></th>\n",
       "      <th>channelGrouping</th>\n",
       "      <th>date</th>\n",
       "      <th>fullVisitorId</th>\n",
       "      <th>sessionId</th>\n",
       "      <th>socialEngagementType</th>\n",
       "      <th>visitId</th>\n",
       "      <th>visitNumber</th>\n",
       "      <th>visitStartTime</th>\n",
       "      <th>device.browser</th>\n",
       "      <th>device.browserSize</th>\n",
       "      <th>...</th>\n",
       "      <th>trafficSource.adwordsClickInfo.isVideoAd</th>\n",
       "      <th>trafficSource.adwordsClickInfo.page</th>\n",
       "      <th>trafficSource.adwordsClickInfo.slot</th>\n",
       "      <th>trafficSource.campaign</th>\n",
       "      <th>trafficSource.campaignCode</th>\n",
       "      <th>trafficSource.isTrueDirect</th>\n",
       "      <th>trafficSource.keyword</th>\n",
       "      <th>trafficSource.medium</th>\n",
       "      <th>trafficSource.referralPath</th>\n",
       "      <th>trafficSource.source</th>\n",
       "    </tr>\n",
       "  </thead>\n",
       "  <tbody>\n",
       "    <tr>\n",
       "      <th>0</th>\n",
       "      <td>Organic Search</td>\n",
       "      <td>20160902</td>\n",
       "      <td>1131660440785968503</td>\n",
       "      <td>1131660440785968503_1472830385</td>\n",
       "      <td>Not Socially Engaged</td>\n",
       "      <td>1472830385</td>\n",
       "      <td>1</td>\n",
       "      <td>1472830385</td>\n",
       "      <td>Chrome</td>\n",
       "      <td>not available in demo dataset</td>\n",
       "      <td>...</td>\n",
       "      <td>NaN</td>\n",
       "      <td>NaN</td>\n",
       "      <td>NaN</td>\n",
       "      <td>(not set)</td>\n",
       "      <td>NaN</td>\n",
       "      <td>NaN</td>\n",
       "      <td>(not provided)</td>\n",
       "      <td>organic</td>\n",
       "      <td>NaN</td>\n",
       "      <td>google</td>\n",
       "    </tr>\n",
       "    <tr>\n",
       "      <th>1</th>\n",
       "      <td>Organic Search</td>\n",
       "      <td>20160902</td>\n",
       "      <td>377306020877927890</td>\n",
       "      <td>377306020877927890_1472880147</td>\n",
       "      <td>Not Socially Engaged</td>\n",
       "      <td>1472880147</td>\n",
       "      <td>1</td>\n",
       "      <td>1472880147</td>\n",
       "      <td>Firefox</td>\n",
       "      <td>not available in demo dataset</td>\n",
       "      <td>...</td>\n",
       "      <td>NaN</td>\n",
       "      <td>NaN</td>\n",
       "      <td>NaN</td>\n",
       "      <td>(not set)</td>\n",
       "      <td>NaN</td>\n",
       "      <td>NaN</td>\n",
       "      <td>(not provided)</td>\n",
       "      <td>organic</td>\n",
       "      <td>NaN</td>\n",
       "      <td>google</td>\n",
       "    </tr>\n",
       "    <tr>\n",
       "      <th>2</th>\n",
       "      <td>Organic Search</td>\n",
       "      <td>20160902</td>\n",
       "      <td>3895546263509774583</td>\n",
       "      <td>3895546263509774583_1472865386</td>\n",
       "      <td>Not Socially Engaged</td>\n",
       "      <td>1472865386</td>\n",
       "      <td>1</td>\n",
       "      <td>1472865386</td>\n",
       "      <td>Chrome</td>\n",
       "      <td>not available in demo dataset</td>\n",
       "      <td>...</td>\n",
       "      <td>NaN</td>\n",
       "      <td>NaN</td>\n",
       "      <td>NaN</td>\n",
       "      <td>(not set)</td>\n",
       "      <td>NaN</td>\n",
       "      <td>NaN</td>\n",
       "      <td>(not provided)</td>\n",
       "      <td>organic</td>\n",
       "      <td>NaN</td>\n",
       "      <td>google</td>\n",
       "    </tr>\n",
       "    <tr>\n",
       "      <th>3</th>\n",
       "      <td>Organic Search</td>\n",
       "      <td>20160902</td>\n",
       "      <td>4763447161404445595</td>\n",
       "      <td>4763447161404445595_1472881213</td>\n",
       "      <td>Not Socially Engaged</td>\n",
       "      <td>1472881213</td>\n",
       "      <td>1</td>\n",
       "      <td>1472881213</td>\n",
       "      <td>UC Browser</td>\n",
       "      <td>not available in demo dataset</td>\n",
       "      <td>...</td>\n",
       "      <td>NaN</td>\n",
       "      <td>NaN</td>\n",
       "      <td>NaN</td>\n",
       "      <td>(not set)</td>\n",
       "      <td>NaN</td>\n",
       "      <td>NaN</td>\n",
       "      <td>google + online</td>\n",
       "      <td>organic</td>\n",
       "      <td>NaN</td>\n",
       "      <td>google</td>\n",
       "    </tr>\n",
       "    <tr>\n",
       "      <th>4</th>\n",
       "      <td>Organic Search</td>\n",
       "      <td>20160902</td>\n",
       "      <td>27294437909732085</td>\n",
       "      <td>27294437909732085_1472822600</td>\n",
       "      <td>Not Socially Engaged</td>\n",
       "      <td>1472822600</td>\n",
       "      <td>2</td>\n",
       "      <td>1472822600</td>\n",
       "      <td>Chrome</td>\n",
       "      <td>not available in demo dataset</td>\n",
       "      <td>...</td>\n",
       "      <td>NaN</td>\n",
       "      <td>NaN</td>\n",
       "      <td>NaN</td>\n",
       "      <td>(not set)</td>\n",
       "      <td>NaN</td>\n",
       "      <td>True</td>\n",
       "      <td>(not provided)</td>\n",
       "      <td>organic</td>\n",
       "      <td>NaN</td>\n",
       "      <td>google</td>\n",
       "    </tr>\n",
       "  </tbody>\n",
       "</table>\n",
       "<p>5 rows × 55 columns</p>\n",
       "</div>"
      ],
      "text/plain": [
       "  channelGrouping      date        fullVisitorId  \\\n",
       "0  Organic Search  20160902  1131660440785968503   \n",
       "1  Organic Search  20160902   377306020877927890   \n",
       "2  Organic Search  20160902  3895546263509774583   \n",
       "3  Organic Search  20160902  4763447161404445595   \n",
       "4  Organic Search  20160902    27294437909732085   \n",
       "\n",
       "                        sessionId  socialEngagementType     visitId  \\\n",
       "0  1131660440785968503_1472830385  Not Socially Engaged  1472830385   \n",
       "1   377306020877927890_1472880147  Not Socially Engaged  1472880147   \n",
       "2  3895546263509774583_1472865386  Not Socially Engaged  1472865386   \n",
       "3  4763447161404445595_1472881213  Not Socially Engaged  1472881213   \n",
       "4    27294437909732085_1472822600  Not Socially Engaged  1472822600   \n",
       "\n",
       "   visitNumber  visitStartTime device.browser             device.browserSize  \\\n",
       "0            1      1472830385         Chrome  not available in demo dataset   \n",
       "1            1      1472880147        Firefox  not available in demo dataset   \n",
       "2            1      1472865386         Chrome  not available in demo dataset   \n",
       "3            1      1472881213     UC Browser  not available in demo dataset   \n",
       "4            2      1472822600         Chrome  not available in demo dataset   \n",
       "\n",
       "          ...          trafficSource.adwordsClickInfo.isVideoAd  \\\n",
       "0         ...                                               NaN   \n",
       "1         ...                                               NaN   \n",
       "2         ...                                               NaN   \n",
       "3         ...                                               NaN   \n",
       "4         ...                                               NaN   \n",
       "\n",
       "  trafficSource.adwordsClickInfo.page trafficSource.adwordsClickInfo.slot  \\\n",
       "0                                 NaN                                 NaN   \n",
       "1                                 NaN                                 NaN   \n",
       "2                                 NaN                                 NaN   \n",
       "3                                 NaN                                 NaN   \n",
       "4                                 NaN                                 NaN   \n",
       "\n",
       "   trafficSource.campaign trafficSource.campaignCode  \\\n",
       "0               (not set)                        NaN   \n",
       "1               (not set)                        NaN   \n",
       "2               (not set)                        NaN   \n",
       "3               (not set)                        NaN   \n",
       "4               (not set)                        NaN   \n",
       "\n",
       "  trafficSource.isTrueDirect trafficSource.keyword trafficSource.medium  \\\n",
       "0                        NaN        (not provided)              organic   \n",
       "1                        NaN        (not provided)              organic   \n",
       "2                        NaN        (not provided)              organic   \n",
       "3                        NaN       google + online              organic   \n",
       "4                       True        (not provided)              organic   \n",
       "\n",
       "  trafficSource.referralPath trafficSource.source  \n",
       "0                        NaN               google  \n",
       "1                        NaN               google  \n",
       "2                        NaN               google  \n",
       "3                        NaN               google  \n",
       "4                        NaN               google  \n",
       "\n",
       "[5 rows x 55 columns]"
      ]
     },
     "execution_count": 4,
     "metadata": {},
     "output_type": "execute_result"
    }
   ],
   "source": [
    "train.head()"
   ]
  },
  {
   "cell_type": "code",
   "execution_count": 5,
   "metadata": {},
   "outputs": [
    {
     "name": "stdout",
     "output_type": "stream",
     "text": [
      "<class 'pandas.core.frame.DataFrame'>\n",
      "RangeIndex: 903653 entries, 0 to 903652\n",
      "Data columns (total 55 columns):\n",
      "channelGrouping                                      903653 non-null object\n",
      "date                                                 903653 non-null int64\n",
      "fullVisitorId                                        903653 non-null object\n",
      "sessionId                                            903653 non-null object\n",
      "socialEngagementType                                 903653 non-null object\n",
      "visitId                                              903653 non-null int64\n",
      "visitNumber                                          903653 non-null int64\n",
      "visitStartTime                                       903653 non-null int64\n",
      "device.browser                                       903653 non-null object\n",
      "device.browserSize                                   903653 non-null object\n",
      "device.browserVersion                                903653 non-null object\n",
      "device.deviceCategory                                903653 non-null object\n",
      "device.flashVersion                                  903653 non-null object\n",
      "device.isMobile                                      903653 non-null bool\n",
      "device.language                                      903653 non-null object\n",
      "device.mobileDeviceBranding                          903653 non-null object\n",
      "device.mobileDeviceInfo                              903653 non-null object\n",
      "device.mobileDeviceMarketingName                     903653 non-null object\n",
      "device.mobileDeviceModel                             903653 non-null object\n",
      "device.mobileInputSelector                           903653 non-null object\n",
      "device.operatingSystem                               903653 non-null object\n",
      "device.operatingSystemVersion                        903653 non-null object\n",
      "device.screenColors                                  903653 non-null object\n",
      "device.screenResolution                              903653 non-null object\n",
      "geoNetwork.city                                      903653 non-null object\n",
      "geoNetwork.cityId                                    903653 non-null object\n",
      "geoNetwork.continent                                 903653 non-null object\n",
      "geoNetwork.country                                   903653 non-null object\n",
      "geoNetwork.latitude                                  903653 non-null object\n",
      "geoNetwork.longitude                                 903653 non-null object\n",
      "geoNetwork.metro                                     903653 non-null object\n",
      "geoNetwork.networkDomain                             903653 non-null object\n",
      "geoNetwork.networkLocation                           903653 non-null object\n",
      "geoNetwork.region                                    903653 non-null object\n",
      "geoNetwork.subContinent                              903653 non-null object\n",
      "totals.bounces                                       450630 non-null float64\n",
      "totals.hits                                          903653 non-null int64\n",
      "totals.newVisits                                     703060 non-null float64\n",
      "totals.pageviews                                     903553 non-null float64\n",
      "totals.transactionRevenue                            11515 non-null float64\n",
      "totals.visits                                        903653 non-null int64\n",
      "trafficSource.adContent                              10946 non-null object\n",
      "trafficSource.adwordsClickInfo.adNetworkType         21460 non-null object\n",
      "trafficSource.adwordsClickInfo.criteriaParameters    903653 non-null object\n",
      "trafficSource.adwordsClickInfo.gclId                 21561 non-null object\n",
      "trafficSource.adwordsClickInfo.isVideoAd             21460 non-null object\n",
      "trafficSource.adwordsClickInfo.page                  21460 non-null float64\n",
      "trafficSource.adwordsClickInfo.slot                  21460 non-null object\n",
      "trafficSource.campaign                               903653 non-null object\n",
      "trafficSource.campaignCode                           1 non-null object\n",
      "trafficSource.isTrueDirect                           274005 non-null object\n",
      "trafficSource.keyword                                400724 non-null object\n",
      "trafficSource.medium                                 903653 non-null object\n",
      "trafficSource.referralPath                           330941 non-null object\n",
      "trafficSource.source                                 903653 non-null object\n",
      "dtypes: bool(1), float64(5), int64(6), object(43)\n",
      "memory usage: 373.2+ MB\n"
     ]
    }
   ],
   "source": [
    "train.info()"
   ]
  },
  {
   "cell_type": "code",
   "execution_count": 6,
   "metadata": {},
   "outputs": [
    {
     "data": {
      "text/html": [
       "<div>\n",
       "<style scoped>\n",
       "    .dataframe tbody tr th:only-of-type {\n",
       "        vertical-align: middle;\n",
       "    }\n",
       "\n",
       "    .dataframe tbody tr th {\n",
       "        vertical-align: top;\n",
       "    }\n",
       "\n",
       "    .dataframe thead th {\n",
       "        text-align: right;\n",
       "    }\n",
       "</style>\n",
       "<table border=\"1\" class=\"dataframe\">\n",
       "  <thead>\n",
       "    <tr style=\"text-align: right;\">\n",
       "      <th></th>\n",
       "      <th>fullVisitorId</th>\n",
       "      <th>totals.transactionRevenue</th>\n",
       "    </tr>\n",
       "  </thead>\n",
       "  <tbody>\n",
       "    <tr>\n",
       "      <th>0</th>\n",
       "      <td>4823595352351</td>\n",
       "      <td>0.0</td>\n",
       "    </tr>\n",
       "    <tr>\n",
       "      <th>1</th>\n",
       "      <td>5103959234087</td>\n",
       "      <td>0.0</td>\n",
       "    </tr>\n",
       "    <tr>\n",
       "      <th>2</th>\n",
       "      <td>10278554503158</td>\n",
       "      <td>0.0</td>\n",
       "    </tr>\n",
       "    <tr>\n",
       "      <th>3</th>\n",
       "      <td>20424342248747</td>\n",
       "      <td>0.0</td>\n",
       "    </tr>\n",
       "    <tr>\n",
       "      <th>4</th>\n",
       "      <td>26722803385797</td>\n",
       "      <td>0.0</td>\n",
       "    </tr>\n",
       "  </tbody>\n",
       "</table>\n",
       "</div>"
      ],
      "text/plain": [
       "    fullVisitorId  totals.transactionRevenue\n",
       "0   4823595352351                        0.0\n",
       "1   5103959234087                        0.0\n",
       "2  10278554503158                        0.0\n",
       "3  20424342248747                        0.0\n",
       "4  26722803385797                        0.0"
      ]
     },
     "execution_count": 6,
     "metadata": {},
     "output_type": "execute_result"
    }
   ],
   "source": [
    "gdf = train.groupby(\"fullVisitorId\")[\"totals.transactionRevenue\"].sum().reset_index()\n",
    "gdf.head()"
   ]
  },
  {
   "cell_type": "code",
   "execution_count": 7,
   "metadata": {
    "scrolled": true
   },
   "outputs": [
    {
     "name": "stdout",
     "output_type": "stream",
     "text": [
      "<class 'pandas.core.frame.DataFrame'>\n",
      "RangeIndex: 723803 entries, 0 to 723802\n",
      "Data columns (total 2 columns):\n",
      "fullVisitorId                723803 non-null object\n",
      "totals.transactionRevenue    723803 non-null float64\n",
      "dtypes: float64(1), object(1)\n",
      "memory usage: 11.0+ MB\n"
     ]
    }
   ],
   "source": [
    "gdf.info()\n",
    "#ユニークなIDのnが723803、その合計のdf"
   ]
  },
  {
   "cell_type": "code",
   "execution_count": 8,
   "metadata": {},
   "outputs": [
    {
     "data": {
      "text/plain": [
       "<matplotlib.collections.PathCollection at 0x110127ba8>"
      ]
     },
     "execution_count": 8,
     "metadata": {},
     "output_type": "execute_result"
    },
    {
     "data": {
      "image/png": "[encoded data removed]",
      "text/plain": [
       "<Figure size 432x288 with 1 Axes>"
      ]
     },
     "metadata": {},
     "output_type": "display_data"
    }
   ],
   "source": [
    "plt.scatter(range(gdf.shape[0]), np.sort(np.log1p(gdf[\"totals.transactionRevenue\"].values)))#log1p=loge(1+x)"
   ]
  },
  {
   "cell_type": "code",
   "execution_count": 9,
   "metadata": {},
   "outputs": [
    {
     "data": {
      "text/html": [
       "<div>\n",
       "<style scoped>\n",
       "    .dataframe tbody tr th:only-of-type {\n",
       "        vertical-align: middle;\n",
       "    }\n",
       "\n",
       "    .dataframe tbody tr th {\n",
       "        vertical-align: top;\n",
       "    }\n",
       "\n",
       "    .dataframe thead th {\n",
       "        text-align: right;\n",
       "    }\n",
       "</style>\n",
       "<table border=\"1\" class=\"dataframe\">\n",
       "  <thead>\n",
       "    <tr style=\"text-align: right;\">\n",
       "      <th></th>\n",
       "      <th>date</th>\n",
       "      <th>visitId</th>\n",
       "      <th>visitNumber</th>\n",
       "      <th>visitStartTime</th>\n",
       "      <th>totals.bounces</th>\n",
       "      <th>totals.hits</th>\n",
       "      <th>totals.newVisits</th>\n",
       "      <th>totals.pageviews</th>\n",
       "      <th>totals.transactionRevenue</th>\n",
       "      <th>totals.visits</th>\n",
       "      <th>trafficSource.adwordsClickInfo.page</th>\n",
       "    </tr>\n",
       "  </thead>\n",
       "  <tbody>\n",
       "    <tr>\n",
       "      <th>count</th>\n",
       "      <td>9.036530e+05</td>\n",
       "      <td>9.036530e+05</td>\n",
       "      <td>903653.000000</td>\n",
       "      <td>9.036530e+05</td>\n",
       "      <td>450630.0</td>\n",
       "      <td>903653.000000</td>\n",
       "      <td>703060.0</td>\n",
       "      <td>903553.000000</td>\n",
       "      <td>1.151500e+04</td>\n",
       "      <td>903653.0</td>\n",
       "      <td>21460.000000</td>\n",
       "    </tr>\n",
       "    <tr>\n",
       "      <th>mean</th>\n",
       "      <td>2.016589e+07</td>\n",
       "      <td>1.485007e+09</td>\n",
       "      <td>2.264897</td>\n",
       "      <td>1.485007e+09</td>\n",
       "      <td>1.0</td>\n",
       "      <td>4.596538</td>\n",
       "      <td>1.0</td>\n",
       "      <td>3.849764</td>\n",
       "      <td>1.337448e+08</td>\n",
       "      <td>1.0</td>\n",
       "      <td>1.008108</td>\n",
       "    </tr>\n",
       "    <tr>\n",
       "      <th>std</th>\n",
       "      <td>4.697698e+03</td>\n",
       "      <td>9.022124e+06</td>\n",
       "      <td>9.283735</td>\n",
       "      <td>9.022124e+06</td>\n",
       "      <td>0.0</td>\n",
       "      <td>9.641437</td>\n",
       "      <td>0.0</td>\n",
       "      <td>7.025274</td>\n",
       "      <td>4.482852e+08</td>\n",
       "      <td>0.0</td>\n",
       "      <td>0.173584</td>\n",
       "    </tr>\n",
       "    <tr>\n",
       "      <th>min</th>\n",
       "      <td>2.016080e+07</td>\n",
       "      <td>1.470035e+09</td>\n",
       "      <td>1.000000</td>\n",
       "      <td>1.470035e+09</td>\n",
       "      <td>1.0</td>\n",
       "      <td>1.000000</td>\n",
       "      <td>1.0</td>\n",
       "      <td>1.000000</td>\n",
       "      <td>1.000000e+04</td>\n",
       "      <td>1.0</td>\n",
       "      <td>1.000000</td>\n",
       "    </tr>\n",
       "    <tr>\n",
       "      <th>25%</th>\n",
       "      <td>2.016103e+07</td>\n",
       "      <td>1.477561e+09</td>\n",
       "      <td>1.000000</td>\n",
       "      <td>1.477561e+09</td>\n",
       "      <td>1.0</td>\n",
       "      <td>1.000000</td>\n",
       "      <td>1.0</td>\n",
       "      <td>1.000000</td>\n",
       "      <td>2.493000e+07</td>\n",
       "      <td>1.0</td>\n",
       "      <td>1.000000</td>\n",
       "    </tr>\n",
       "    <tr>\n",
       "      <th>50%</th>\n",
       "      <td>2.017011e+07</td>\n",
       "      <td>1.483949e+09</td>\n",
       "      <td>1.000000</td>\n",
       "      <td>1.483949e+09</td>\n",
       "      <td>1.0</td>\n",
       "      <td>2.000000</td>\n",
       "      <td>1.0</td>\n",
       "      <td>1.000000</td>\n",
       "      <td>4.945000e+07</td>\n",
       "      <td>1.0</td>\n",
       "      <td>1.000000</td>\n",
       "    </tr>\n",
       "    <tr>\n",
       "      <th>75%</th>\n",
       "      <td>2.017042e+07</td>\n",
       "      <td>1.492759e+09</td>\n",
       "      <td>1.000000</td>\n",
       "      <td>1.492759e+09</td>\n",
       "      <td>1.0</td>\n",
       "      <td>4.000000</td>\n",
       "      <td>1.0</td>\n",
       "      <td>4.000000</td>\n",
       "      <td>1.076550e+08</td>\n",
       "      <td>1.0</td>\n",
       "      <td>1.000000</td>\n",
       "    </tr>\n",
       "    <tr>\n",
       "      <th>max</th>\n",
       "      <td>2.017080e+07</td>\n",
       "      <td>1.501657e+09</td>\n",
       "      <td>395.000000</td>\n",
       "      <td>1.501657e+09</td>\n",
       "      <td>1.0</td>\n",
       "      <td>500.000000</td>\n",
       "      <td>1.0</td>\n",
       "      <td>469.000000</td>\n",
       "      <td>2.312950e+10</td>\n",
       "      <td>1.0</td>\n",
       "      <td>14.000000</td>\n",
       "    </tr>\n",
       "  </tbody>\n",
       "</table>\n",
       "</div>"
      ],
      "text/plain": [
       "               date       visitId    visitNumber  visitStartTime  \\\n",
       "count  9.036530e+05  9.036530e+05  903653.000000    9.036530e+05   \n",
       "mean   2.016589e+07  1.485007e+09       2.264897    1.485007e+09   \n",
       "std    4.697698e+03  9.022124e+06       9.283735    9.022124e+06   \n",
       "min    2.016080e+07  1.470035e+09       1.000000    1.470035e+09   \n",
       "25%    2.016103e+07  1.477561e+09       1.000000    1.477561e+09   \n",
       "50%    2.017011e+07  1.483949e+09       1.000000    1.483949e+09   \n",
       "75%    2.017042e+07  1.492759e+09       1.000000    1.492759e+09   \n",
       "max    2.017080e+07  1.501657e+09     395.000000    1.501657e+09   \n",
       "\n",
       "       totals.bounces    totals.hits  totals.newVisits  totals.pageviews  \\\n",
       "count        450630.0  903653.000000          703060.0     903553.000000   \n",
       "mean              1.0       4.596538               1.0          3.849764   \n",
       "std               0.0       9.641437               0.0          7.025274   \n",
       "min               1.0       1.000000               1.0          1.000000   \n",
       "25%               1.0       1.000000               1.0          1.000000   \n",
       "50%               1.0       2.000000               1.0          1.000000   \n",
       "75%               1.0       4.000000               1.0          4.000000   \n",
       "max               1.0     500.000000               1.0        469.000000   \n",
       "\n",
       "       totals.transactionRevenue  totals.visits  \\\n",
       "count               1.151500e+04       903653.0   \n",
       "mean                1.337448e+08            1.0   \n",
       "std                 4.482852e+08            0.0   \n",
       "min                 1.000000e+04            1.0   \n",
       "25%                 2.493000e+07            1.0   \n",
       "50%                 4.945000e+07            1.0   \n",
       "75%                 1.076550e+08            1.0   \n",
       "max                 2.312950e+10            1.0   \n",
       "\n",
       "       trafficSource.adwordsClickInfo.page  \n",
       "count                         21460.000000  \n",
       "mean                              1.008108  \n",
       "std                               0.173584  \n",
       "min                               1.000000  \n",
       "25%                               1.000000  \n",
       "50%                               1.000000  \n",
       "75%                               1.000000  \n",
       "max                              14.000000  "
      ]
     },
     "execution_count": 9,
     "metadata": {},
     "output_type": "execute_result"
    }
   ],
   "source": [
    "train.describe()"
   ]
  },
  {
   "cell_type": "code",
   "execution_count": 10,
   "metadata": {},
   "outputs": [
    {
     "data": {
      "text/plain": [
       "array([[<matplotlib.axes._subplots.AxesSubplot object at 0x1100fa780>,\n",
       "        <matplotlib.axes._subplots.AxesSubplot object at 0x110181940>,\n",
       "        <matplotlib.axes._subplots.AxesSubplot object at 0x11019ec50>],\n",
       "       [<matplotlib.axes._subplots.AxesSubplot object at 0x1101c1f60>,\n",
       "        <matplotlib.axes._subplots.AxesSubplot object at 0x1101ef2b0>,\n",
       "        <matplotlib.axes._subplots.AxesSubplot object at 0x1101ef2e8>],\n",
       "       [<matplotlib.axes._subplots.AxesSubplot object at 0x10fe328d0>,\n",
       "        <matplotlib.axes._subplots.AxesSubplot object at 0x10fe5cba8>,\n",
       "        <matplotlib.axes._subplots.AxesSubplot object at 0x10fe86eb8>],\n",
       "       [<matplotlib.axes._subplots.AxesSubplot object at 0x10feb7208>,\n",
       "        <matplotlib.axes._subplots.AxesSubplot object at 0x10fee0518>,\n",
       "        <matplotlib.axes._subplots.AxesSubplot object at 0x111866828>]],\n",
       "      dtype=object)"
      ]
     },
     "execution_count": 10,
     "metadata": {},
     "output_type": "execute_result"
    },
    {
     "data": {
      "image/png": "[encoded data removed]",
      "text/plain": [
       "<Figure size 1440x1080 with 12 Axes>"
      ]
     },
     "metadata": {},
     "output_type": "display_data"
    }
   ],
   "source": [
    "train.hist(bins=50, figsize=(20,15))"
   ]
  },
  {
   "cell_type": "code",
   "execution_count": 11,
   "metadata": {},
   "outputs": [],
   "source": [
    "train_corr = train.corr()"
   ]
  },
  {
   "cell_type": "code",
   "execution_count": 12,
   "metadata": {},
   "outputs": [
    {
     "data": {
      "text/plain": [
       "totals.transactionRevenue              1.000000\n",
       "visitNumber                            0.308895\n",
       "totals.hits                            0.141973\n",
       "totals.pageviews                       0.128644\n",
       "date                                   0.008099\n",
       "visitId                               -0.003447\n",
       "visitStartTime                        -0.003447\n",
       "device.isMobile                       -0.052623\n",
       "totals.bounces                              NaN\n",
       "totals.newVisits                            NaN\n",
       "totals.visits                               NaN\n",
       "trafficSource.adwordsClickInfo.page         NaN\n",
       "Name: totals.transactionRevenue, dtype: float64"
      ]
     },
     "execution_count": 12,
     "metadata": {},
     "output_type": "execute_result"
    }
   ],
   "source": [
    "train_corr[\"totals.transactionRevenue\"].sort_values(ascending=False)"
   ]
  },
  {
   "cell_type": "code",
   "execution_count": 13,
   "metadata": {},
   "outputs": [
    {
     "name": "stdout",
     "output_type": "stream",
     "text": [
      "0    Organic Search\n",
      "1    Organic Search\n",
      "2    Organic Search\n",
      "3    Organic Search\n",
      "4    Organic Search\n",
      "Name: channelGrouping, dtype: object\n",
      "8\n",
      "['Organic Search', 'Referral', 'Paid Search', 'Affiliates', 'Direct', 'Display', 'Social', '(Other)']\n"
     ]
    }
   ],
   "source": [
    "print (train[\"channelGrouping\"].head())\n",
    "print (train[\"channelGrouping\"].nunique())\n",
    "print (train[\"channelGrouping\"].unique().tolist())\n",
    "#\"channelGrouping\"は、onehotする"
   ]
  },
  {
   "cell_type": "code",
   "execution_count": 14,
   "metadata": {},
   "outputs": [
    {
     "data": {
      "text/plain": [
       "<matplotlib.collections.PathCollection at 0x116a29f28>"
      ]
     },
     "execution_count": 14,
     "metadata": {},
     "output_type": "execute_result"
    },
    {
     "data": {
      "image/png": "[encoded data removed]",
      "text/plain": [
       "<Figure size 432x288 with 1 Axes>"
      ]
     },
     "metadata": {},
     "output_type": "display_data"
    }
   ],
   "source": [
    "plt.scatter(range(train.shape[0]),train[\"date\"])\n",
    "#dateに外れ値はなさそう。放置"
   ]
  },
  {
   "cell_type": "code",
   "execution_count": 15,
   "metadata": {},
   "outputs": [
    {
     "name": "stdout",
     "output_type": "stream",
     "text": [
      "0    1131660440785968503\n",
      "1     377306020877927890\n",
      "2    3895546263509774583\n",
      "3    4763447161404445595\n",
      "4      27294437909732085\n",
      "Name: fullVisitorId, dtype: object\n"
     ]
    }
   ],
   "source": [
    "print (train[\"fullVisitorId\"].head())"
   ]
  },
  {
   "cell_type": "code",
   "execution_count": 16,
   "metadata": {},
   "outputs": [
    {
     "data": {
      "text/plain": [
       "<matplotlib.collections.PathCollection at 0x123baca90>"
      ]
     },
     "execution_count": 16,
     "metadata": {},
     "output_type": "execute_result"
    },
    {
     "data": {
      "image/png": "[encoded data removed]",
      "text/plain": [
       "<Figure size 432x288 with 1 Axes>"
      ]
     },
     "metadata": {},
     "output_type": "display_data"
    }
   ],
   "source": [
    "plt.scatter(range(train.shape[0]),train[\"fullVisitorId\"])\n",
    "#なにやら大きい値がある"
   ]
  },
  {
   "cell_type": "code",
   "execution_count": 17,
   "metadata": {},
   "outputs": [],
   "source": [
    "train_fullVisitorId_float64 = train[train[\"fullVisitorId\"].astype(np.float64) > 1e19]"
   ]
  },
  {
   "cell_type": "code",
   "execution_count": 18,
   "metadata": {},
   "outputs": [
    {
     "data": {
      "text/html": [
       "<div>\n",
       "<style scoped>\n",
       "    .dataframe tbody tr th:only-of-type {\n",
       "        vertical-align: middle;\n",
       "    }\n",
       "\n",
       "    .dataframe tbody tr th {\n",
       "        vertical-align: top;\n",
       "    }\n",
       "\n",
       "    .dataframe thead th {\n",
       "        text-align: right;\n",
       "    }\n",
       "</style>\n",
       "<table border=\"1\" class=\"dataframe\">\n",
       "  <thead>\n",
       "    <tr style=\"text-align: right;\">\n",
       "      <th></th>\n",
       "      <th>channelGrouping</th>\n",
       "      <th>date</th>\n",
       "      <th>fullVisitorId</th>\n",
       "      <th>sessionId</th>\n",
       "      <th>socialEngagementType</th>\n",
       "      <th>visitId</th>\n",
       "      <th>visitNumber</th>\n",
       "      <th>visitStartTime</th>\n",
       "      <th>device.browser</th>\n",
       "      <th>device.browserSize</th>\n",
       "      <th>...</th>\n",
       "      <th>trafficSource.adwordsClickInfo.isVideoAd</th>\n",
       "      <th>trafficSource.adwordsClickInfo.page</th>\n",
       "      <th>trafficSource.adwordsClickInfo.slot</th>\n",
       "      <th>trafficSource.campaign</th>\n",
       "      <th>trafficSource.campaignCode</th>\n",
       "      <th>trafficSource.isTrueDirect</th>\n",
       "      <th>trafficSource.keyword</th>\n",
       "      <th>trafficSource.medium</th>\n",
       "      <th>trafficSource.referralPath</th>\n",
       "      <th>trafficSource.source</th>\n",
       "    </tr>\n",
       "  </thead>\n",
       "  <tbody>\n",
       "    <tr>\n",
       "      <th>49165</th>\n",
       "      <td>Direct</td>\n",
       "      <td>20170624</td>\n",
       "      <td>42265292326122750572</td>\n",
       "      <td>42265292326122750572_1498287760</td>\n",
       "      <td>Not Socially Engaged</td>\n",
       "      <td>1498287760</td>\n",
       "      <td>1</td>\n",
       "      <td>1498287760</td>\n",
       "      <td>Safari</td>\n",
       "      <td>not available in demo dataset</td>\n",
       "      <td>...</td>\n",
       "      <td>NaN</td>\n",
       "      <td>NaN</td>\n",
       "      <td>NaN</td>\n",
       "      <td>(not set)</td>\n",
       "      <td>NaN</td>\n",
       "      <td>True</td>\n",
       "      <td>NaN</td>\n",
       "      <td>(none)</td>\n",
       "      <td>NaN</td>\n",
       "      <td>(direct)</td>\n",
       "    </tr>\n",
       "    <tr>\n",
       "      <th>49178</th>\n",
       "      <td>Direct</td>\n",
       "      <td>20170624</td>\n",
       "      <td>51983079332407350992</td>\n",
       "      <td>51983079332407350992_1498287765</td>\n",
       "      <td>Not Socially Engaged</td>\n",
       "      <td>1498287765</td>\n",
       "      <td>1</td>\n",
       "      <td>1498287765</td>\n",
       "      <td>Safari</td>\n",
       "      <td>not available in demo dataset</td>\n",
       "      <td>...</td>\n",
       "      <td>NaN</td>\n",
       "      <td>NaN</td>\n",
       "      <td>NaN</td>\n",
       "      <td>(not set)</td>\n",
       "      <td>NaN</td>\n",
       "      <td>True</td>\n",
       "      <td>NaN</td>\n",
       "      <td>(none)</td>\n",
       "      <td>NaN</td>\n",
       "      <td>(direct)</td>\n",
       "    </tr>\n",
       "    <tr>\n",
       "      <th>421547</th>\n",
       "      <td>Social</td>\n",
       "      <td>20170109</td>\n",
       "      <td>35846613770150791963</td>\n",
       "      <td>35846613770150791963_1483974247</td>\n",
       "      <td>Not Socially Engaged</td>\n",
       "      <td>1483974247</td>\n",
       "      <td>1</td>\n",
       "      <td>1483974247</td>\n",
       "      <td>Chrome</td>\n",
       "      <td>not available in demo dataset</td>\n",
       "      <td>...</td>\n",
       "      <td>NaN</td>\n",
       "      <td>NaN</td>\n",
       "      <td>NaN</td>\n",
       "      <td>(not set)</td>\n",
       "      <td>NaN</td>\n",
       "      <td>NaN</td>\n",
       "      <td>NaN</td>\n",
       "      <td>referral</td>\n",
       "      <td>/yt/about/ja/</td>\n",
       "      <td>youtube.com</td>\n",
       "    </tr>\n",
       "    <tr>\n",
       "      <th>501715</th>\n",
       "      <td>Direct</td>\n",
       "      <td>20170722</td>\n",
       "      <td>47427028546298368646</td>\n",
       "      <td>47427028546298368646_1500708789</td>\n",
       "      <td>Not Socially Engaged</td>\n",
       "      <td>1500708789</td>\n",
       "      <td>1</td>\n",
       "      <td>1500708789</td>\n",
       "      <td>Safari</td>\n",
       "      <td>not available in demo dataset</td>\n",
       "      <td>...</td>\n",
       "      <td>NaN</td>\n",
       "      <td>NaN</td>\n",
       "      <td>NaN</td>\n",
       "      <td>(not set)</td>\n",
       "      <td>NaN</td>\n",
       "      <td>True</td>\n",
       "      <td>NaN</td>\n",
       "      <td>(none)</td>\n",
       "      <td>NaN</td>\n",
       "      <td>(direct)</td>\n",
       "    </tr>\n",
       "    <tr>\n",
       "      <th>631126</th>\n",
       "      <td>Direct</td>\n",
       "      <td>20170513</td>\n",
       "      <td>11241321903919452424</td>\n",
       "      <td>11241321903919452424_1494661970</td>\n",
       "      <td>Not Socially Engaged</td>\n",
       "      <td>1494661970</td>\n",
       "      <td>1</td>\n",
       "      <td>1494661970</td>\n",
       "      <td>Safari</td>\n",
       "      <td>not available in demo dataset</td>\n",
       "      <td>...</td>\n",
       "      <td>NaN</td>\n",
       "      <td>NaN</td>\n",
       "      <td>NaN</td>\n",
       "      <td>(not set)</td>\n",
       "      <td>NaN</td>\n",
       "      <td>True</td>\n",
       "      <td>NaN</td>\n",
       "      <td>(none)</td>\n",
       "      <td>NaN</td>\n",
       "      <td>(direct)</td>\n",
       "    </tr>\n",
       "  </tbody>\n",
       "</table>\n",
       "<p>5 rows × 55 columns</p>\n",
       "</div>"
      ],
      "text/plain": [
       "       channelGrouping      date         fullVisitorId  \\\n",
       "49165           Direct  20170624  42265292326122750572   \n",
       "49178           Direct  20170624  51983079332407350992   \n",
       "421547          Social  20170109  35846613770150791963   \n",
       "501715          Direct  20170722  47427028546298368646   \n",
       "631126          Direct  20170513  11241321903919452424   \n",
       "\n",
       "                              sessionId  socialEngagementType     visitId  \\\n",
       "49165   42265292326122750572_1498287760  Not Socially Engaged  1498287760   \n",
       "49178   51983079332407350992_1498287765  Not Socially Engaged  1498287765   \n",
       "421547  35846613770150791963_1483974247  Not Socially Engaged  1483974247   \n",
       "501715  47427028546298368646_1500708789  Not Socially Engaged  1500708789   \n",
       "631126  11241321903919452424_1494661970  Not Socially Engaged  1494661970   \n",
       "\n",
       "        visitNumber  visitStartTime device.browser  \\\n",
       "49165             1      1498287760         Safari   \n",
       "49178             1      1498287765         Safari   \n",
       "421547            1      1483974247         Chrome   \n",
       "501715            1      1500708789         Safari   \n",
       "631126            1      1494661970         Safari   \n",
       "\n",
       "                   device.browserSize         ...           \\\n",
       "49165   not available in demo dataset         ...            \n",
       "49178   not available in demo dataset         ...            \n",
       "421547  not available in demo dataset         ...            \n",
       "501715  not available in demo dataset         ...            \n",
       "631126  not available in demo dataset         ...            \n",
       "\n",
       "       trafficSource.adwordsClickInfo.isVideoAd  \\\n",
       "49165                                       NaN   \n",
       "49178                                       NaN   \n",
       "421547                                      NaN   \n",
       "501715                                      NaN   \n",
       "631126                                      NaN   \n",
       "\n",
       "       trafficSource.adwordsClickInfo.page  \\\n",
       "49165                                  NaN   \n",
       "49178                                  NaN   \n",
       "421547                                 NaN   \n",
       "501715                                 NaN   \n",
       "631126                                 NaN   \n",
       "\n",
       "       trafficSource.adwordsClickInfo.slot  trafficSource.campaign  \\\n",
       "49165                                  NaN               (not set)   \n",
       "49178                                  NaN               (not set)   \n",
       "421547                                 NaN               (not set)   \n",
       "501715                                 NaN               (not set)   \n",
       "631126                                 NaN               (not set)   \n",
       "\n",
       "       trafficSource.campaignCode trafficSource.isTrueDirect  \\\n",
       "49165                         NaN                       True   \n",
       "49178                         NaN                       True   \n",
       "421547                        NaN                        NaN   \n",
       "501715                        NaN                       True   \n",
       "631126                        NaN                       True   \n",
       "\n",
       "       trafficSource.keyword trafficSource.medium trafficSource.referralPath  \\\n",
       "49165                    NaN               (none)                        NaN   \n",
       "49178                    NaN               (none)                        NaN   \n",
       "421547                   NaN             referral              /yt/about/ja/   \n",
       "501715                   NaN               (none)                        NaN   \n",
       "631126                   NaN               (none)                        NaN   \n",
       "\n",
       "       trafficSource.source  \n",
       "49165              (direct)  \n",
       "49178              (direct)  \n",
       "421547          youtube.com  \n",
       "501715             (direct)  \n",
       "631126             (direct)  \n",
       "\n",
       "[5 rows x 55 columns]"
      ]
     },
     "execution_count": 18,
     "metadata": {},
     "output_type": "execute_result"
    }
   ],
   "source": [
    "train_fullVisitorId_float64\n",
    "#よくわからん。"
   ]
  },
  {
   "cell_type": "code",
   "execution_count": 19,
   "metadata": {
    "scrolled": true
   },
   "outputs": [
    {
     "name": "stdout",
     "output_type": "stream",
     "text": [
      "0    1131660440785968503\n",
      "1     377306020877927890\n",
      "2    3895546263509774583\n",
      "3    4763447161404445595\n",
      "4      27294437909732085\n",
      "Name: fullVisitorId, dtype: object\n"
     ]
    }
   ],
   "source": [
    "print (train[\"fullVisitorId\"].head())"
   ]
  },
  {
   "cell_type": "code",
   "execution_count": 20,
   "metadata": {},
   "outputs": [
    {
     "name": "stdout",
     "output_type": "stream",
     "text": [
      "0    1131660440785968503_1472830385\n",
      "1     377306020877927890_1472880147\n",
      "2    3895546263509774583_1472865386\n",
      "3    4763447161404445595_1472881213\n",
      "4      27294437909732085_1472822600\n",
      "Name: sessionId, dtype: object\n"
     ]
    }
   ],
   "source": [
    "print (train[\"sessionId\"].head())\n",
    "#fullVisitorId_一意の数字で振ってる。重要さはよくわからない。"
   ]
  },
  {
   "cell_type": "code",
   "execution_count": 21,
   "metadata": {},
   "outputs": [
    {
     "name": "stdout",
     "output_type": "stream",
     "text": [
      "0    Not Socially Engaged\n",
      "1    Not Socially Engaged\n",
      "2    Not Socially Engaged\n",
      "3    Not Socially Engaged\n",
      "4    Not Socially Engaged\n",
      "Name: socialEngagementType, dtype: object\n",
      "1\n",
      "['Not Socially Engaged']\n"
     ]
    }
   ],
   "source": [
    "print (train[\"socialEngagementType\"].head())\n",
    "print (train[\"socialEngagementType\"].nunique())\n",
    "print (train[\"socialEngagementType\"].unique().tolist())\n",
    "#\"socialEngagementType\"は、意味がないです。"
   ]
  },
  {
   "cell_type": "code",
   "execution_count": 22,
   "metadata": {},
   "outputs": [
    {
     "data": {
      "text/plain": [
       "0    1472830385\n",
       "1    1472880147\n",
       "2    1472865386\n",
       "3    1472881213\n",
       "4    1472822600\n",
       "Name: visitId, dtype: int64"
      ]
     },
     "execution_count": 22,
     "metadata": {},
     "output_type": "execute_result"
    }
   ],
   "source": [
    "train[\"visitId\"].head()"
   ]
  },
  {
   "cell_type": "code",
   "execution_count": 23,
   "metadata": {},
   "outputs": [
    {
     "data": {
      "text/plain": [
       "<matplotlib.collections.PathCollection at 0x119981908>"
      ]
     },
     "execution_count": 23,
     "metadata": {},
     "output_type": "execute_result"
    },
    {
     "data": {
      "image/png": "[encoded data removed]",
      "text/plain": [
       "<Figure size 432x288 with 1 Axes>"
      ]
     },
     "metadata": {},
     "output_type": "display_data"
    }
   ],
   "source": [
    "plt.scatter(range(train.shape[0]),train[\"visitId\"])\n",
    "#数字に意味はないけど、外れ値はない。"
   ]
  },
  {
   "cell_type": "code",
   "execution_count": 24,
   "metadata": {},
   "outputs": [
    {
     "name": "stdout",
     "output_type": "stream",
     "text": [
      "0    1\n",
      "1    1\n",
      "2    1\n",
      "3    1\n",
      "4    2\n",
      "Name: visitNumber, dtype: int64\n",
      "384\n",
      "[1, 2, 3, 5, 11, 4, 57, 6, 56, 7, 20, 8, 15, 9, 25, 24, 14, 89, 136, 13, 85, 10, 105, 22, 21, 48, 18, 26, 17, 83, 38, 84, 27, 42, 100, 31, 16, 30, 59, 50, 19, 51, 29, 160, 52, 12, 63, 23, 47, 49, 28, 34, 178, 88, 33, 317, 93, 140, 35, 41, 91, 92, 74, 309, 43, 61, 46, 45, 32, 108, 86, 195, 36, 236, 72, 162, 235, 90, 76, 77, 94, 96, 73, 78, 97, 87, 304, 106, 107, 389, 68, 98, 132, 58, 266, 267, 221, 39, 121, 143, 142, 174, 175, 189, 191, 55, 190, 104, 245, 204, 37, 82, 137, 206, 101, 62, 110, 156, 158, 157, 159, 138, 109, 194, 193, 147, 254, 71, 53, 144, 145, 146, 80, 253, 99, 134, 135, 102, 44, 130, 95, 75, 103, 315, 70, 69, 117, 163, 154, 153, 283, 65, 262, 263, 295, 297, 298, 219, 64, 296, 155, 141, 169, 170, 60, 207, 54, 187, 133, 118, 264, 67, 66, 126, 40, 122, 325, 326, 197, 167, 196, 188, 279, 185, 230, 161, 186, 278, 139, 234, 233, 168, 115, 114, 119, 150, 149, 148, 79, 306, 123, 131, 171, 124, 129, 258, 112, 218, 183, 199, 261, 259, 260, 200, 220, 152, 151, 111, 202, 203, 205, 173, 125, 198, 280, 281, 177, 182, 127, 120, 116, 81, 373, 113, 212, 213, 226, 225, 348, 224, 128, 176, 269, 250, 355, 370, 285, 369, 286, 287, 247, 248, 288, 308, 165, 166, 164, 362, 214, 346, 345, 215, 216, 179, 244, 184, 329, 243, 255, 257, 217, 256, 181, 192, 252, 251, 180, 359, 356, 358, 357, 277, 229, 223, 271, 273, 272, 172, 208, 292, 291, 265, 232, 228, 227, 341, 340, 339, 338, 209, 210, 211, 301, 299, 300, 303, 302, 307, 324, 238, 239, 222, 268, 270, 395, 231, 284, 363, 364, 328, 319, 320, 201, 322, 323, 375, 276, 241, 242, 289, 240, 388, 282, 274, 390, 391, 249, 275, 294, 293, 316, 246, 321, 354, 349, 350, 353, 352, 351, 347, 343, 342, 344, 383, 290, 385, 384, 374, 327, 318, 393, 335, 334, 333, 237, 371, 372, 312, 313, 314, 336, 337, 386, 310, 311, 394, 360, 361, 305, 376, 379, 378, 377, 387]\n"
     ]
    }
   ],
   "source": [
    "print (train[\"visitNumber\"].head())\n",
    "print (train[\"visitNumber\"].nunique())\n",
    "print (train[\"visitNumber\"].unique().tolist())\n",
    "#\"socialEngagementType\"は、意味がないです。"
   ]
  },
  {
   "cell_type": "code",
   "execution_count": 25,
   "metadata": {},
   "outputs": [
    {
     "data": {
      "text/plain": [
       "<matplotlib.collections.PathCollection at 0x12e6deb70>"
      ]
     },
     "execution_count": 25,
     "metadata": {},
     "output_type": "execute_result"
    },
    {
     "data": {
      "image/png": "[encoded data removed]",
      "text/plain": [
       "<Figure size 432x288 with 1 Axes>"
      ]
     },
     "metadata": {},
     "output_type": "display_data"
    }
   ],
   "source": [
    "plt.scatter(range(train.shape[0]),train[\"visitNumber\"])\n",
    "#外れ値はなさそう。int64だしこのままで良さそう。"
   ]
  },
  {
   "cell_type": "code",
   "execution_count": 26,
   "metadata": {},
   "outputs": [
    {
     "data": {
      "text/plain": [
       "0    1472830385\n",
       "1    1472880147\n",
       "2    1472865386\n",
       "3    1472881213\n",
       "4    1472822600\n",
       "Name: visitStartTime, dtype: int64"
      ]
     },
     "execution_count": 26,
     "metadata": {},
     "output_type": "execute_result"
    }
   ],
   "source": [
    "train[\"visitStartTime\"].head()"
   ]
  },
  {
   "cell_type": "code",
   "execution_count": 27,
   "metadata": {},
   "outputs": [
    {
     "data": {
      "text/plain": [
       "<matplotlib.collections.PathCollection at 0x119977a20>"
      ]
     },
     "execution_count": 27,
     "metadata": {},
     "output_type": "execute_result"
    },
    {
     "data": {
      "image/png": "[encoded data removed]",
      "text/plain": [
       "<Figure size 432x288 with 1 Axes>"
      ]
     },
     "metadata": {},
     "output_type": "display_data"
    }
   ],
   "source": [
    "plt.scatter(range(train.shape[0]),train[\"visitStartTime\"])\n",
    "#とりあえずこのままで。とはいえ何か法則見つけられれば良い特徴量になりそう。"
   ]
  },
  {
   "cell_type": "code",
   "execution_count": 28,
   "metadata": {},
   "outputs": [
    {
     "data": {
      "text/plain": [
       "15030    NaN\n",
       "301285   NaN\n",
       "377282   NaN\n",
       "455084   NaN\n",
       "455231   NaN\n",
       "625963   NaN\n",
       "772027   NaN\n",
       "897443   NaN\n",
       "Name: totals.transactionRevenue, dtype: float64"
      ]
     },
     "execution_count": 28,
     "metadata": {},
     "output_type": "execute_result"
    }
   ],
   "source": [
    "a = train[train[\"visitNumber\"] > 386]\n",
    "a[\"totals.transactionRevenue\"]"
   ]
  },
  {
   "cell_type": "code",
   "execution_count": null,
   "metadata": {},
   "outputs": [],
   "source": []
  }
 ],
 "metadata": {
  "kernelspec": {
   "display_name": "Python 3",
   "language": "python",
   "name": "python3"
  },
  "language_info": {
   "codemirror_mode": {
    "name": "ipython",
    "version": 3
   },
   "file_extension": ".py",
   "mimetype": "text/x-python",
   "name": "python",
   "nbconvert_exporter": "python",
   "pygments_lexer": "ipython3",
   "version": "3.6.5"
  }
 },
 "nbformat": 4,
 "nbformat_minor": 2
}
