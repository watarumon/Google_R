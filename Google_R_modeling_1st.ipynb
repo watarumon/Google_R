{
 "cells": [
  {
   "cell_type": "code",
   "execution_count": 1,
   "metadata": {},
   "outputs": [
    {
     "name": "stderr",
     "output_type": "stream",
     "text": [
      "C:\\Users\\takahashiw40\\AppData\\Local\\Continuum\\anaconda3\\lib\\site-packages\\IPython\\core\\interactiveshell.py:2728: DtypeWarning: Columns (2,49) have mixed types. Specify dtype option on import or set low_memory=False.\n",
      "  interactivity=interactivity, compiler=compiler, result=result)\n",
      "C:\\Users\\takahashiw40\\AppData\\Local\\Continuum\\anaconda3\\lib\\site-packages\\IPython\\core\\interactiveshell.py:2728: DtypeWarning: Columns (2) have mixed types. Specify dtype option on import or set low_memory=False.\n",
      "  interactivity=interactivity, compiler=compiler, result=result)\n"
     ]
    }
   ],
   "source": [
    "import numpy as np\n",
    "import pandas as pd\n",
    "import os\n",
    "\n",
    "%matplotlib inline\n",
    "import matplotlib\n",
    "import matplotlib.pyplot as plt\n",
    "\n",
    "os.getcwd()\n",
    "\n",
    "train = pd.read_csv(\"C:\\\\Users\\\\takahashiw40\\\\Google_R/train-flattened.csv\")\n",
    "test =  pd.read_csv(\"C:\\\\Users\\\\takahashiw40\\\\Google_R/test-flattened.csv\")\n",
    "sample_submission =  pd.read_csv(\"C:\\\\Users\\\\takahashiw40\\\\Google_R/sample_submission.csv\")"
   ]
  },
  {
   "cell_type": "code",
   "execution_count": 2,
   "metadata": {},
   "outputs": [],
   "source": [
    "train_1st = train[['channelGrouping',\n",
    "                  'date',\n",
    "                  'fullVisitorId',\n",
    "                  'visitNumber',\n",
    "                  'visitStartTime',\n",
    "                  'totals.bounces',\n",
    "                  'totals.hits',\n",
    "                  'totals.newVisits',\n",
    "                  'totals.pageviews',\n",
    "                  'trafficSource.isTrueDirect',\n",
    "                  'trafficSource.medium']]"
   ]
  },
  {
   "cell_type": "code",
   "execution_count": 3,
   "metadata": {},
   "outputs": [
    {
     "data": {
      "text/html": [
       "<div>\n",
       "<style scoped>\n",
       "    .dataframe tbody tr th:only-of-type {\n",
       "        vertical-align: middle;\n",
       "    }\n",
       "\n",
       "    .dataframe tbody tr th {\n",
       "        vertical-align: top;\n",
       "    }\n",
       "\n",
       "    .dataframe thead th {\n",
       "        text-align: right;\n",
       "    }\n",
       "</style>\n",
       "<table border=\"1\" class=\"dataframe\">\n",
       "  <thead>\n",
       "    <tr style=\"text-align: right;\">\n",
       "      <th></th>\n",
       "      <th>channelGrouping</th>\n",
       "      <th>date</th>\n",
       "      <th>fullVisitorId</th>\n",
       "      <th>visitNumber</th>\n",
       "      <th>visitStartTime</th>\n",
       "      <th>totals.bounces</th>\n",
       "      <th>totals.hits</th>\n",
       "      <th>totals.newVisits</th>\n",
       "      <th>totals.pageviews</th>\n",
       "      <th>trafficSource.isTrueDirect</th>\n",
       "      <th>trafficSource.medium</th>\n",
       "    </tr>\n",
       "  </thead>\n",
       "  <tbody>\n",
       "    <tr>\n",
       "      <th>0</th>\n",
       "      <td>Organic Search</td>\n",
       "      <td>20160902</td>\n",
       "      <td>1131660440785968503</td>\n",
       "      <td>1</td>\n",
       "      <td>1472830385</td>\n",
       "      <td>1.0</td>\n",
       "      <td>1</td>\n",
       "      <td>1.0</td>\n",
       "      <td>1.0</td>\n",
       "      <td>NaN</td>\n",
       "      <td>organic</td>\n",
       "    </tr>\n",
       "    <tr>\n",
       "      <th>1</th>\n",
       "      <td>Organic Search</td>\n",
       "      <td>20160902</td>\n",
       "      <td>377306020877927890</td>\n",
       "      <td>1</td>\n",
       "      <td>1472880147</td>\n",
       "      <td>1.0</td>\n",
       "      <td>1</td>\n",
       "      <td>1.0</td>\n",
       "      <td>1.0</td>\n",
       "      <td>NaN</td>\n",
       "      <td>organic</td>\n",
       "    </tr>\n",
       "    <tr>\n",
       "      <th>2</th>\n",
       "      <td>Organic Search</td>\n",
       "      <td>20160902</td>\n",
       "      <td>3895546263509774583</td>\n",
       "      <td>1</td>\n",
       "      <td>1472865386</td>\n",
       "      <td>1.0</td>\n",
       "      <td>1</td>\n",
       "      <td>1.0</td>\n",
       "      <td>1.0</td>\n",
       "      <td>NaN</td>\n",
       "      <td>organic</td>\n",
       "    </tr>\n",
       "    <tr>\n",
       "      <th>3</th>\n",
       "      <td>Organic Search</td>\n",
       "      <td>20160902</td>\n",
       "      <td>4763447161404445595</td>\n",
       "      <td>1</td>\n",
       "      <td>1472881213</td>\n",
       "      <td>1.0</td>\n",
       "      <td>1</td>\n",
       "      <td>1.0</td>\n",
       "      <td>1.0</td>\n",
       "      <td>NaN</td>\n",
       "      <td>organic</td>\n",
       "    </tr>\n",
       "    <tr>\n",
       "      <th>4</th>\n",
       "      <td>Organic Search</td>\n",
       "      <td>20160902</td>\n",
       "      <td>27294437909732085</td>\n",
       "      <td>2</td>\n",
       "      <td>1472822600</td>\n",
       "      <td>1.0</td>\n",
       "      <td>1</td>\n",
       "      <td>NaN</td>\n",
       "      <td>1.0</td>\n",
       "      <td>True</td>\n",
       "      <td>organic</td>\n",
       "    </tr>\n",
       "  </tbody>\n",
       "</table>\n",
       "</div>"
      ],
      "text/plain": [
       "  channelGrouping      date        fullVisitorId  visitNumber  visitStartTime  \\\n",
       "0  Organic Search  20160902  1131660440785968503            1      1472830385   \n",
       "1  Organic Search  20160902   377306020877927890            1      1472880147   \n",
       "2  Organic Search  20160902  3895546263509774583            1      1472865386   \n",
       "3  Organic Search  20160902  4763447161404445595            1      1472881213   \n",
       "4  Organic Search  20160902    27294437909732085            2      1472822600   \n",
       "\n",
       "   totals.bounces  totals.hits  totals.newVisits  totals.pageviews  \\\n",
       "0             1.0            1               1.0               1.0   \n",
       "1             1.0            1               1.0               1.0   \n",
       "2             1.0            1               1.0               1.0   \n",
       "3             1.0            1               1.0               1.0   \n",
       "4             1.0            1               NaN               1.0   \n",
       "\n",
       "  trafficSource.isTrueDirect trafficSource.medium  \n",
       "0                        NaN              organic  \n",
       "1                        NaN              organic  \n",
       "2                        NaN              organic  \n",
       "3                        NaN              organic  \n",
       "4                       True              organic  "
      ]
     },
     "execution_count": 3,
     "metadata": {},
     "output_type": "execute_result"
    }
   ],
   "source": [
    "train_1st.head()"
   ]
  },
  {
   "cell_type": "code",
   "execution_count": 4,
   "metadata": {},
   "outputs": [
    {
     "data": {
      "text/plain": [
       "channelGrouping                    0\n",
       "date                               0\n",
       "fullVisitorId                      0\n",
       "visitNumber                        0\n",
       "visitStartTime                     0\n",
       "totals.bounces                453023\n",
       "totals.hits                        0\n",
       "totals.newVisits              200593\n",
       "totals.pageviews                 100\n",
       "trafficSource.isTrueDirect    629648\n",
       "trafficSource.medium               0\n",
       "dtype: int64"
      ]
     },
     "execution_count": 4,
     "metadata": {},
     "output_type": "execute_result"
    }
   ],
   "source": [
    "#null処理\n",
    "train_1st.isnull().sum()"
   ]
  },
  {
   "cell_type": "code",
   "execution_count": 5,
   "metadata": {},
   "outputs": [
    {
     "name": "stderr",
     "output_type": "stream",
     "text": [
      "C:\\Users\\takahashiw40\\AppData\\Local\\Continuum\\anaconda3\\lib\\site-packages\\pandas\\core\\generic.py:4355: SettingWithCopyWarning: \n",
      "A value is trying to be set on a copy of a slice from a DataFrame\n",
      "\n",
      "See the caveats in the documentation: http://pandas.pydata.org/pandas-docs/stable/indexing.html#indexing-view-versus-copy\n",
      "  self._update_inplace(new_data)\n"
     ]
    }
   ],
   "source": [
    "#null処理_totals.bounces\n",
    "train_1st['totals.bounces'].fillna(0, inplace=True)"
   ]
  },
  {
   "cell_type": "code",
   "execution_count": 6,
   "metadata": {},
   "outputs": [
    {
     "name": "stderr",
     "output_type": "stream",
     "text": [
      "C:\\Users\\takahashiw40\\AppData\\Local\\Continuum\\anaconda3\\lib\\site-packages\\pandas\\core\\generic.py:4355: SettingWithCopyWarning: \n",
      "A value is trying to be set on a copy of a slice from a DataFrame\n",
      "\n",
      "See the caveats in the documentation: http://pandas.pydata.org/pandas-docs/stable/indexing.html#indexing-view-versus-copy\n",
      "  self._update_inplace(new_data)\n"
     ]
    }
   ],
   "source": [
    "#null処理_totals.newVisits\n",
    "train_1st['totals.newVisits'].fillna(0, inplace=True)"
   ]
  },
  {
   "cell_type": "code",
   "execution_count": 7,
   "metadata": {},
   "outputs": [
    {
     "name": "stderr",
     "output_type": "stream",
     "text": [
      "C:\\Users\\takahashiw40\\AppData\\Local\\Continuum\\anaconda3\\lib\\site-packages\\pandas\\core\\generic.py:4355: SettingWithCopyWarning: \n",
      "A value is trying to be set on a copy of a slice from a DataFrame\n",
      "\n",
      "See the caveats in the documentation: http://pandas.pydata.org/pandas-docs/stable/indexing.html#indexing-view-versus-copy\n",
      "  self._update_inplace(new_data)\n"
     ]
    }
   ],
   "source": [
    "#null処理_totals.newVisits\n",
    "train_1st['totals.pageviews'].fillna(1, inplace=True)"
   ]
  },
  {
   "cell_type": "code",
   "execution_count": 28,
   "metadata": {},
   "outputs": [],
   "source": [
    "#null処理_trafficSource_isTrueDirect\n",
    "train_1st['trafficSource.isTrueDirect'].replace({np.nan:0,\"True\":1},inplace=True)\n",
    "#train_1st['trafficSource.isTrueDirect'].astype(np.int)"
   ]
  },
  {
   "cell_type": "code",
   "execution_count": 9,
   "metadata": {},
   "outputs": [
    {
     "data": {
      "text/plain": [
       "channelGrouping               0\n",
       "date                          0\n",
       "fullVisitorId                 0\n",
       "visitNumber                   0\n",
       "visitStartTime                0\n",
       "totals.bounces                0\n",
       "totals.hits                   0\n",
       "totals.newVisits              0\n",
       "totals.pageviews              0\n",
       "trafficSource.isTrueDirect    0\n",
       "trafficSource.medium          0\n",
       "dtype: int64"
      ]
     },
     "execution_count": 9,
     "metadata": {},
     "output_type": "execute_result"
    }
   ],
   "source": [
    "train_1st.isnull().sum()"
   ]
  },
  {
   "cell_type": "code",
   "execution_count": 10,
   "metadata": {},
   "outputs": [
    {
     "name": "stdout",
     "output_type": "stream",
     "text": [
      "<class 'pandas.core.frame.DataFrame'>\n",
      "RangeIndex: 903653 entries, 0 to 903652\n",
      "Data columns (total 11 columns):\n",
      "channelGrouping               903653 non-null object\n",
      "date                          903653 non-null int64\n",
      "fullVisitorId                 903653 non-null object\n",
      "visitNumber                   903653 non-null int64\n",
      "visitStartTime                903653 non-null int64\n",
      "totals.bounces                903653 non-null float64\n",
      "totals.hits                   903653 non-null int64\n",
      "totals.newVisits              903653 non-null float64\n",
      "totals.pageviews              903653 non-null float64\n",
      "trafficSource.isTrueDirect    903653 non-null object\n",
      "trafficSource.medium          903653 non-null object\n",
      "dtypes: float64(3), int64(4), object(4)\n",
      "memory usage: 75.8+ MB\n"
     ]
    }
   ],
   "source": [
    "train_1st.info()"
   ]
  },
  {
   "cell_type": "code",
   "execution_count": 11,
   "metadata": {},
   "outputs": [],
   "source": [
    "#object処理_channelGrouping"
   ]
  },
  {
   "cell_type": "code",
   "execution_count": 12,
   "metadata": {},
   "outputs": [],
   "source": [
    "channelGrouping_cat_encoded, channelGrouping_categories = train_1st['channelGrouping'].factorize()"
   ]
  },
  {
   "cell_type": "code",
   "execution_count": 13,
   "metadata": {},
   "outputs": [],
   "source": [
    "from sklearn.preprocessing import OneHotEncoder\n",
    "encoder = OneHotEncoder()"
   ]
  },
  {
   "cell_type": "code",
   "execution_count": 14,
   "metadata": {},
   "outputs": [],
   "source": [
    "channelGrouping_cat_1hot = encoder.fit_transform(channelGrouping_cat_encoded.reshape(-1,1))\n",
    "#channelGrouping_cat_1hot.toarray()"
   ]
  },
  {
   "cell_type": "code",
   "execution_count": 15,
   "metadata": {},
   "outputs": [],
   "source": [
    "df_channelGrouping_cat = pd.DataFrame(channelGrouping_cat_1hot.toarray(), columns=channelGrouping_categories)"
   ]
  },
  {
   "cell_type": "code",
   "execution_count": 16,
   "metadata": {},
   "outputs": [
    {
     "name": "stderr",
     "output_type": "stream",
     "text": [
      "C:\\Users\\takahashiw40\\AppData\\Local\\Continuum\\anaconda3\\lib\\site-packages\\ipykernel_launcher.py:1: SettingWithCopyWarning: \n",
      "A value is trying to be set on a copy of a slice from a DataFrame\n",
      "\n",
      "See the caveats in the documentation: http://pandas.pydata.org/pandas-docs/stable/indexing.html#indexing-view-versus-copy\n",
      "  \"\"\"Entry point for launching an IPython kernel.\n"
     ]
    }
   ],
   "source": [
    "train_1st.drop('channelGrouping', axis=1,inplace=True)"
   ]
  },
  {
   "cell_type": "code",
   "execution_count": 17,
   "metadata": {},
   "outputs": [],
   "source": [
    "train_1st = pd.concat([train_1st, df_channelGrouping_cat], axis=1)"
   ]
  },
  {
   "cell_type": "code",
   "execution_count": 18,
   "metadata": {},
   "outputs": [
    {
     "name": "stdout",
     "output_type": "stream",
     "text": [
      "<class 'pandas.core.frame.DataFrame'>\n",
      "RangeIndex: 903653 entries, 0 to 903652\n",
      "Data columns (total 18 columns):\n",
      "date                          903653 non-null int64\n",
      "fullVisitorId                 903653 non-null object\n",
      "visitNumber                   903653 non-null int64\n",
      "visitStartTime                903653 non-null int64\n",
      "totals.bounces                903653 non-null float64\n",
      "totals.hits                   903653 non-null int64\n",
      "totals.newVisits              903653 non-null float64\n",
      "totals.pageviews              903653 non-null float64\n",
      "trafficSource.isTrueDirect    903653 non-null object\n",
      "trafficSource.medium          903653 non-null object\n",
      "Organic Search                903653 non-null float64\n",
      "Referral                      903653 non-null float64\n",
      "Paid Search                   903653 non-null float64\n",
      "Affiliates                    903653 non-null float64\n",
      "Direct                        903653 non-null float64\n",
      "Display                       903653 non-null float64\n",
      "Social                        903653 non-null float64\n",
      "(Other)                       903653 non-null float64\n",
      "dtypes: float64(11), int64(4), object(3)\n",
      "memory usage: 124.1+ MB\n"
     ]
    }
   ],
   "source": [
    "train_1st.info()"
   ]
  },
  {
   "cell_type": "code",
   "execution_count": 19,
   "metadata": {},
   "outputs": [],
   "source": [
    "#astype\n",
    "train_1st['fullVisitorId'] = train_1st['fullVisitorId'].astype(np.float,inplace=True)"
   ]
  },
  {
   "cell_type": "code",
   "execution_count": 21,
   "metadata": {},
   "outputs": [
    {
     "name": "stdout",
     "output_type": "stream",
     "text": [
      "<class 'pandas.core.frame.DataFrame'>\n",
      "RangeIndex: 903653 entries, 0 to 903652\n",
      "Data columns (total 18 columns):\n",
      "date                          903653 non-null int64\n",
      "fullVisitorId                 903653 non-null float64\n",
      "visitNumber                   903653 non-null int64\n",
      "visitStartTime                903653 non-null int64\n",
      "totals.bounces                903653 non-null float64\n",
      "totals.hits                   903653 non-null int64\n",
      "totals.newVisits              903653 non-null float64\n",
      "totals.pageviews              903653 non-null float64\n",
      "trafficSource.isTrueDirect    903653 non-null object\n",
      "trafficSource.medium          903653 non-null object\n",
      "Organic Search                903653 non-null float64\n",
      "Referral                      903653 non-null float64\n",
      "Paid Search                   903653 non-null float64\n",
      "Affiliates                    903653 non-null float64\n",
      "Direct                        903653 non-null float64\n",
      "Display                       903653 non-null float64\n",
      "Social                        903653 non-null float64\n",
      "(Other)                       903653 non-null float64\n",
      "dtypes: float64(12), int64(4), object(2)\n",
      "memory usage: 124.1+ MB\n"
     ]
    }
   ],
   "source": [
    "train_1st.info()"
   ]
  },
  {
   "cell_type": "code",
   "execution_count": 32,
   "metadata": {},
   "outputs": [],
   "source": [
    "train_1st['trafficSource.isTrueDirect'] = train_1st['trafficSource.isTrueDirect'].astype(np.int,inplace=True)"
   ]
  },
  {
   "cell_type": "code",
   "execution_count": 41,
   "metadata": {
    "scrolled": true
   },
   "outputs": [
    {
     "name": "stdout",
     "output_type": "stream",
     "text": [
      "<class 'pandas.core.frame.DataFrame'>\n",
      "RangeIndex: 903653 entries, 0 to 903652\n",
      "Data columns (total 18 columns):\n",
      "date                          903653 non-null int64\n",
      "fullVisitorId                 903653 non-null float64\n",
      "visitNumber                   903653 non-null int64\n",
      "visitStartTime                903653 non-null int64\n",
      "totals.bounces                903653 non-null float64\n",
      "totals.hits                   903653 non-null int64\n",
      "totals.newVisits              903653 non-null float64\n",
      "totals.pageviews              903653 non-null float64\n",
      "trafficSource.isTrueDirect    903653 non-null int32\n",
      "trafficSource.medium          903653 non-null object\n",
      "Organic Search                903653 non-null float64\n",
      "Referral                      903653 non-null float64\n",
      "Paid Search                   903653 non-null float64\n",
      "Affiliates                    903653 non-null float64\n",
      "Direct                        903653 non-null float64\n",
      "Display                       903653 non-null float64\n",
      "Social                        903653 non-null float64\n",
      "(Other)                       903653 non-null float64\n",
      "dtypes: float64(12), int32(1), int64(4), object(1)\n",
      "memory usage: 120.7+ MB\n"
     ]
    }
   ],
   "source": [
    "train_1st.info()"
   ]
  },
  {
   "cell_type": "code",
   "execution_count": 42,
   "metadata": {},
   "outputs": [
    {
     "name": "stdout",
     "output_type": "stream",
     "text": [
      "<class 'pandas.core.frame.DataFrame'>\n",
      "RangeIndex: 903653 entries, 0 to 903652\n",
      "Data columns (total 24 columns):\n",
      "date                          903653 non-null int64\n",
      "fullVisitorId                 903653 non-null float64\n",
      "visitNumber                   903653 non-null int64\n",
      "visitStartTime                903653 non-null int64\n",
      "totals.bounces                903653 non-null float64\n",
      "totals.hits                   903653 non-null int64\n",
      "totals.newVisits              903653 non-null float64\n",
      "totals.pageviews              903653 non-null float64\n",
      "trafficSource.isTrueDirect    903653 non-null int32\n",
      "Organic Search                903653 non-null float64\n",
      "Referral                      903653 non-null float64\n",
      "Paid Search                   903653 non-null float64\n",
      "Affiliates                    903653 non-null float64\n",
      "Direct                        903653 non-null float64\n",
      "Display                       903653 non-null float64\n",
      "Social                        903653 non-null float64\n",
      "(Other)                       903653 non-null float64\n",
      "organic                       903653 non-null float64\n",
      "referral                      903653 non-null float64\n",
      "cpc                           903653 non-null float64\n",
      "affiliate                     903653 non-null float64\n",
      "(none)                        903653 non-null float64\n",
      "cpm                           903653 non-null float64\n",
      "(not set)                     903653 non-null float64\n",
      "dtypes: float64(19), int32(1), int64(4)\n",
      "memory usage: 162.0 MB\n"
     ]
    }
   ],
   "source": [
    "#object処理_trafficSource.medium\n",
    "#from sklearn.preprocessing import OneHotEncoder\n",
    "#encoder = OneHotEncoder()\n",
    "trafficSource_medium_cat_encoded, trafficSource_medium_categories = train_1st['trafficSource.medium'].factorize()\n",
    "trafficSource_medium_cat_1hot = encoder.fit_transform(trafficSource_medium_cat_encoded.reshape(-1,1))\n",
    "df_trafficSource_medium_cat = pd.DataFrame(trafficSource_medium_cat_1hot.toarray(), columns=trafficSource_medium_categories)\n",
    "train_1st.drop('trafficSource.medium', axis=1,inplace=True)\n",
    "train_1st = pd.concat([train_1st, df_trafficSource_medium_cat], axis=1)\n",
    "train_1st.info()"
   ]
  },
  {
   "cell_type": "code",
   "execution_count": 44,
   "metadata": {},
   "outputs": [],
   "source": [
    "#drop(none),(not set)\n",
    "train_1st.drop(['(none)','(not set)'], axis=1,inplace=True)"
   ]
  },
  {
   "cell_type": "code",
   "execution_count": 45,
   "metadata": {},
   "outputs": [
    {
     "name": "stdout",
     "output_type": "stream",
     "text": [
      "<class 'pandas.core.frame.DataFrame'>\n",
      "RangeIndex: 903653 entries, 0 to 903652\n",
      "Data columns (total 22 columns):\n",
      "date                          903653 non-null int64\n",
      "fullVisitorId                 903653 non-null float64\n",
      "visitNumber                   903653 non-null int64\n",
      "visitStartTime                903653 non-null int64\n",
      "totals.bounces                903653 non-null float64\n",
      "totals.hits                   903653 non-null int64\n",
      "totals.newVisits              903653 non-null float64\n",
      "totals.pageviews              903653 non-null float64\n",
      "trafficSource.isTrueDirect    903653 non-null int32\n",
      "Organic Search                903653 non-null float64\n",
      "Referral                      903653 non-null float64\n",
      "Paid Search                   903653 non-null float64\n",
      "Affiliates                    903653 non-null float64\n",
      "Direct                        903653 non-null float64\n",
      "Display                       903653 non-null float64\n",
      "Social                        903653 non-null float64\n",
      "(Other)                       903653 non-null float64\n",
      "organic                       903653 non-null float64\n",
      "referral                      903653 non-null float64\n",
      "cpc                           903653 non-null float64\n",
      "affiliate                     903653 non-null float64\n",
      "cpm                           903653 non-null float64\n",
      "dtypes: float64(17), int32(1), int64(4)\n",
      "memory usage: 148.2 MB\n"
     ]
    }
   ],
   "source": [
    "train_1st.info()"
   ]
  },
  {
   "cell_type": "code",
   "execution_count": null,
   "metadata": {},
   "outputs": [],
   "source": []
  }
 ],
 "metadata": {
  "kernelspec": {
   "display_name": "Python 3",
   "language": "python",
   "name": "python3"
  },
  "language_info": {
   "codemirror_mode": {
    "name": "ipython",
    "version": 3
   },
   "file_extension": ".py",
   "mimetype": "text/x-python",
   "name": "python",
   "nbconvert_exporter": "python",
   "pygments_lexer": "ipython3",
   "version": "3.6.4"
  }
 },
 "nbformat": 4,
 "nbformat_minor": 2
}
